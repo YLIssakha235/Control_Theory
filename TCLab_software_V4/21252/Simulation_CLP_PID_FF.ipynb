{
 "cells": [
  {
   "cell_type": "code",
   "execution_count": null,
   "id": "0cecda7b-4f64-49aa-a120-308a7fef4c08",
   "metadata": {},
   "outputs": [],
   "source": [
    "import numpy as np\n",
    "import matplotlib.pyplot as plt\n",
    "from package_PID import PIDController\n",
    "from package_DBR import SOPDT  # Fonction pour simuler le modèle SOPDT\n",
    "\n",
    "# --- Définition des paramètres ---\n",
    "Kp = 1.2  # Gain proportionnel\n",
    "Ki = 0.5  # Gain intégral\n",
    "Kd = 0.1  # Gain dérivé\n",
    "FF_gain = 0.8  # Gain du feedforward\n",
    "Ts = 1.0  # Temps d'échantillonnage\n",
    "\n",
    "# --- Création du contrôleur PID avec Feedforward ---\n",
    "pid = PIDController(Kp, Ki, Kd, Ts, FF_gain)\n",
    "\n",
    "# --- Modèle SOPDT (Processus à réguler) ---\n",
    "T1, T2, theta = 150.0, 6.0, 6.0  # Paramètres identifiés\n",
    "MVm = np.zeros(100)  # Signal de commande initial\n",
    "PVm = np.zeros(100)  # Réponse du système initiale\n",
    "DV = np.zeros(100)   # Perturbation\n",
    "\n",
    "# Ajout d'une perturbation entre t=50 et t=70\n",
    "DV[50:70] = 10  \n",
    "\n",
    "# --- Simulation en boucle fermée ---\n",
    "SP = np.ones(100) * 50  # Consigne\n",
    "\n",
    "for t in range(1, 100):\n",
    "    PVm[t] = SOPDT(MVm[:t], Kp, T1, T2, theta, Ts, PVInit=PVm[0])  # Simulation du processus\n",
    "    MVm[t] = pid.compute(SP[t], PVm[t], DV[t])  # PID avec Feedforward\n",
    "\n",
    "# --- Tracé des courbes ---\n",
    "plt.figure(figsize=(10, 5))\n",
    "plt.plot(PVm, 'g-', label=\"PV (Sortie)\")\n",
    "plt.plot(SP, 'k--', label=\"Consigne (SP)\")\n",
    "plt.plot(MVm, 'b-', label=\"Commande (MV)\")\n",
    "plt.plot(DV, 'r-', label=\"Perturbation (DV)\")\n",
    "plt.xlabel(\"Temps [s]\")\n",
    "plt.ylabel(\"Valeur\")\n",
    "plt.title(\"Simulation PID avec Feedforward sur SOPDT\")\n",
    "plt.legend()\n",
    "plt.grid()\n",
    "plt.show()\n"
   ]
  }
 ],
 "metadata": {
  "kernelspec": {
   "display_name": "Python [conda env:base] *",
   "language": "python",
   "name": "conda-base-py"
  },
  "language_info": {
   "codemirror_mode": {
    "name": "ipython",
    "version": 3
   },
   "file_extension": ".py",
   "mimetype": "text/x-python",
   "name": "python",
   "nbconvert_exporter": "python",
   "pygments_lexer": "ipython3",
   "version": "3.12.7"
  }
 },
 "nbformat": 4,
 "nbformat_minor": 5
}
