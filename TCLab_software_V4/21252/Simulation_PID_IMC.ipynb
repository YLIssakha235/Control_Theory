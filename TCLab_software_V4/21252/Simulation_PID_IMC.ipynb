{
 "cells": [
  {
   "cell_type": "code",
   "execution_count": 2,
   "id": "8a63fe64-92d2-41b4-822d-6ec7c932f0c5",
   "metadata": {},
   "outputs": [
    {
     "ename": "ModuleNotFoundError",
     "evalue": "No module named 'package_DBR'",
     "output_type": "error",
     "traceback": [
      "\u001b[1;31m---------------------------------------------------------------------------\u001b[0m",
      "\u001b[1;31mModuleNotFoundError\u001b[0m                       Traceback (most recent call last)",
      "Cell \u001b[1;32mIn[2], line 4\u001b[0m\n\u001b[0;32m      2\u001b[0m \u001b[38;5;28;01mimport\u001b[39;00m \u001b[38;5;21;01mmatplotlib\u001b[39;00m\u001b[38;5;21;01m.\u001b[39;00m\u001b[38;5;21;01mpyplot\u001b[39;00m \u001b[38;5;28;01mas\u001b[39;00m \u001b[38;5;21;01mplt\u001b[39;00m\n\u001b[0;32m      3\u001b[0m \u001b[38;5;28;01mfrom\u001b[39;00m \u001b[38;5;21;01mpackage_PID_IMC\u001b[39;00m \u001b[38;5;28;01mimport\u001b[39;00m PID_IMC, IMC_PID, compute_stability_margins\n\u001b[1;32m----> 4\u001b[0m \u001b[38;5;28;01mfrom\u001b[39;00m \u001b[38;5;21;01mpackage_DBR\u001b[39;00m \u001b[38;5;28;01mimport\u001b[39;00m SOPDT\n\u001b[0;32m      6\u001b[0m \u001b[38;5;66;03m# --- Paramètres du Processus ---\u001b[39;00m\n\u001b[0;32m      7\u001b[0m Tg \u001b[38;5;241m=\u001b[39m \u001b[38;5;241m150.0\u001b[39m  \u001b[38;5;66;03m# Constante de temps\u001b[39;00m\n",
      "\u001b[1;31mModuleNotFoundError\u001b[0m: No module named 'package_DBR'"
     ]
    }
   ],
   "source": [
    "import numpy as np\n",
    "import matplotlib.pyplot as plt\n",
    "from package_PID_IMC import PID_IMC, IMC_PID, compute_stability_margins\n",
    "from package_DBR import SOPDT\n",
    "\n",
    "# --- Paramètres du Processus ---\n",
    "Tg = 150.0  # Constante de temps\n",
    "Tu = 6.0  # Temps mort\n",
    "Kp = 1.2  # Gain du processus\n",
    "lambda_tuning = 50  # Paramètre IMC (plus grand = plus stable, plus petit = plus réactif)\n",
    "\n",
    "# --- Calcul des paramètres PID optimaux avec IMC ---\n",
    "Kp_PID, Ti, Td = IMC_PID(Tg, Tu, Kp, lambda_tuning)\n",
    "\n",
    "# --- Initialisation du PID ---\n",
    "Ts = 1.0  # Temps d'échantillonnage\n",
    "pid = PID_IMC(Kp_PID, Ti, Td, Ts)\n",
    "\n",
    "# --- Simulation en boucle fermée ---\n",
    "MVm = np.zeros(100)\n",
    "PVm = np.zeros(100)\n",
    "SP = np.ones(100) * 50  # Consigne\n",
    "\n",
    "for t in range(1, 100):\n",
    "    PVm[t] = SOPDT(MVm[:t], Kp, Tg, Tu, Ts, PVInit=PVm[0])\n",
    "    MVm[t] = pid.compute(SP[t], PVm[t])\n",
    "\n",
    "# --- Calcul des marges de stabilité ---\n",
    "num = [Kp_PID * Ti, Kp_PID]\n",
    "den = [Ti, 1]\n",
    "GM, PM = compute_stability_margins(num, den)\n",
    "\n",
    "print(f\"Gain Margin: {GM} dB\")\n",
    "print(f\"Phase Margin: {PM}°\")\n",
    "\n",
    "# --- Tracé des courbes ---\n",
    "plt.figure(figsize=(10, 5))\n",
    "plt.plot(PVm, 'g-', label=\"PV (Sortie)\")\n",
    "plt.plot(SP, 'k--', label=\"Consigne (SP)\")\n",
    "plt.plot(MVm, 'b-', label=\"Commande (MV)\")\n",
    "plt.xlabel(\"Temps [s]\")\n",
    "plt.ylabel(\"Valeur\")\n",
    "plt.title(\"Simulation PID Optimisé avec IMC\")\n",
    "plt.legend()\n",
    "plt.grid()\n",
    "plt.show()\n"
   ]
  }
 ],
 "metadata": {
  "kernelspec": {
   "display_name": "Python [conda env:base] *",
   "language": "python",
   "name": "conda-base-py"
  },
  "language_info": {
   "codemirror_mode": {
    "name": "ipython",
    "version": 3
   },
   "file_extension": ".py",
   "mimetype": "text/x-python",
   "name": "python",
   "nbconvert_exporter": "python",
   "pygments_lexer": "ipython3",
   "version": "3.12.7"
  }
 },
 "nbformat": 4,
 "nbformat_minor": 5
}
